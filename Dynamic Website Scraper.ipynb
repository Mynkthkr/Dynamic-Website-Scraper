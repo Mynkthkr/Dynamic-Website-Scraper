{
 "cells": [
  {
   "cell_type": "markdown",
   "metadata": {},
   "source": [
    "### Import Packages"
   ]
  },
  {
   "cell_type": "code",
   "execution_count": 1,
   "metadata": {},
   "outputs": [],
   "source": [
    "import pandas as pd\n",
    "import numpy as np\n",
    "import pyautogui\n",
    "import pyperclip\n",
    "from selenium import webdriver\n",
    "from pandas import ExcelWriter\n",
    "from pandas import ExcelFile\n",
    "import time\n",
    "import warnings\n",
    "warnings.filterwarnings(\"ignore\")"
   ]
  },
  {
   "cell_type": "code",
   "execution_count": 2,
   "metadata": {},
   "outputs": [],
   "source": [
    "data=pd.read_excel(\"Safaat School Report Card.xlsx\")    #import file with affiliation number in it"
   ]
  },
  {
   "cell_type": "code",
   "execution_count": 3,
   "metadata": {},
   "outputs": [],
   "source": [
    "aff_num=list(data['AffiliationNo'])  # create python list of aff num"
   ]
  },
  {
   "cell_type": "code",
   "execution_count": 4,
   "metadata": {},
   "outputs": [],
   "source": [
    "codes=[]            #filter out the affiliation numbers \n",
    "for i in aff_num:\n",
    "    a=str(i)\n",
    "    if a.isnumeric():\n",
    "        a='0'+str(i)\n",
    "        codes.append(a)\n",
    "    else:\n",
    "        codes.append(a)"
   ]
  },
  {
   "cell_type": "code",
   "execution_count": 5,
   "metadata": {},
   "outputs": [
    {
     "data": {
      "text/plain": [
       "Point(x=445, y=733)"
      ]
     },
     "execution_count": 5,
     "metadata": {},
     "output_type": "execute_result"
    }
   ],
   "source": [
    "pyautogui.position()   #use to know the location of Mouse pointer to grab the data"
   ]
  },
  {
   "cell_type": "code",
   "execution_count": 6,
   "metadata": {},
   "outputs": [],
   "source": [
    "df=pd.DataFrame(np.nan, index=range(0,len(codes)), columns=['Block', 'Village','Pin'])  #Make empty data frame to input the Data"
   ]
  },
  {
   "cell_type": "code",
   "execution_count": null,
   "metadata": {},
   "outputs": [],
   "source": [
    "driver=webdriver.Chrome()  #open browser\n",
    "driver.get('http://schoolreportcards.in/SRC-New/AdvanceSearch/AdvanceSearch.aspx') #open site\n",
    "i=0   #pointer to point data in dataframe\n",
    "for code in codes:   # iterate through the school codes\n",
    "    try:\n",
    "        sch_code=driver.find_element_by_xpath('//*[@id=\"txtSearchSchool\"]') #search school by school code\n",
    "        sch_code.clear()\n",
    "        sch_code.send_keys(code)\n",
    "        driver.find_element_by_xpath('/html/body/form/div[3]/div[2]/div[2]/div[2]/div/div[2]/a[2]/img').click()\n",
    "        time.sleep(7)  #time taken by internet to open the site reduce it if internet is fast\n",
    "        driver.switch_to.window(driver.window_handles[1]) #turn browser focus to the new tab opened\n",
    "        \n",
    "        pyautogui.click(x=331, y=564,clicks=2)   # click on data to select\n",
    "        pyautogui.hotkey('ctrl', 'c')  #copy data\n",
    "        time.sleep(1)\n",
    "        con = pyperclip.paste()  #paste data to con variable\n",
    "        \n",
    "        if len(con)==7:    # now all the conditions to grab the data and paste it into data frame\n",
    "    \n",
    "            pyautogui.click(x=454, y=541,clicks=3)\n",
    "            pyautogui.hotkey('ctrl', 'c')\n",
    "            time.sleep(1)\n",
    "            block = pyperclip.paste()\n",
    "        \n",
    "            pyautogui.click(x=473, y=564,clicks=3)\n",
    "            pyautogui.hotkey('ctrl', 'c')\n",
    "            time.sleep(1)\n",
    "            village = pyperclip.paste()\n",
    "        \n",
    "            pyautogui.click(x=551, y=622,clicks=3)\n",
    "            pyautogui.hotkey('ctrl', 'c')\n",
    "            time.sleep(1)\n",
    "            pin = pyperclip.paste()\n",
    "        \n",
    "            df.loc[:,'Block'][i] = block\n",
    "            df.loc[:,'Village'][i] = village\n",
    "            df.loc[:,'Pin'][i] = pin\n",
    "        \n",
    "        elif len(con)==5:\n",
    "            pyautogui.click(x=454, y=541,clicks=3)\n",
    "            pyautogui.hotkey('ctrl', 'c')\n",
    "            time.sleep(1)\n",
    "            block = pyperclip.paste()\n",
    "        \n",
    "            pyautogui.click(x=473, y=564,clicks=3)\n",
    "            pyautogui.hotkey('ctrl', 'c')\n",
    "            time.sleep(1)\n",
    "            village = pyperclip.paste()\n",
    "        \n",
    "            pyautogui.click(x=551, y=622,clicks=3)\n",
    "            pyautogui.hotkey('ctrl', 'c')\n",
    "            time.sleep(1)\n",
    "            pin = pyperclip.paste()\n",
    "        \n",
    "            df.loc[:,'Block'][i] = block\n",
    "            df.loc[:,'Village'][i] = village\n",
    "            df.loc[:,'Pin'][i] = pin\n",
    "        \n",
    "        else:\n",
    "            pyautogui.click(x=454, y=541,clicks=3)\n",
    "            pyautogui.hotkey('ctrl', 'c')\n",
    "            time.sleep(1)\n",
    "            block = pyperclip.paste()\n",
    "        \n",
    "            pyautogui.click(x=473, y=564,clicks=3)\n",
    "            pyautogui.hotkey('ctrl', 'c')\n",
    "            time.sleep(1)\n",
    "            village = pyperclip.paste()\n",
    "        \n",
    "            pyautogui.click(x=551, y=622,clicks=3)\n",
    "            pyautogui.hotkey('ctrl', 'c')\n",
    "            time.sleep(1)\n",
    "            pin = pyperclip.paste()\n",
    "        \n",
    "            df.loc[:,'Block'][i] = block\n",
    "            df.loc[:,'Village'][i] = village\n",
    "            df.loc[:,'Pin'][i] = pin\n",
    "        \n",
    "        \n",
    "        driver.close()\n",
    "        driver.switch_to.window(driver.window_handles[0])\n",
    "        \n",
    "    except Exception as e:\n",
    "        print(e)\n",
    "        pass\n",
    "    finally:\n",
    "        i+=1"
   ]
  },
  {
   "cell_type": "code",
   "execution_count": null,
   "metadata": {},
   "outputs": [],
   "source": [
    "writer = ExcelWriter('Output File.xlsx')\n",
    "df.to_excel(writer,'Sheet1')\n",
    "writer.save()"
   ]
  },
  {
   "cell_type": "code",
   "execution_count": null,
   "metadata": {},
   "outputs": [],
   "source": []
  }
 ],
 "metadata": {
  "kernelspec": {
   "display_name": "Python 3",
   "language": "python",
   "name": "python3"
  },
  "language_info": {
   "codemirror_mode": {
    "name": "ipython",
    "version": 3
   },
   "file_extension": ".py",
   "mimetype": "text/x-python",
   "name": "python",
   "nbconvert_exporter": "python",
   "pygments_lexer": "ipython3",
   "version": "3.7.4"
  }
 },
 "nbformat": 4,
 "nbformat_minor": 2
}
